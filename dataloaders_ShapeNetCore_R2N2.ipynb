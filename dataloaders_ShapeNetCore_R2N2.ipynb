{
  "nbformat": 4,
  "nbformat_minor": 0,
  "metadata": {
    "anp_metadata": {
      "path": "fbsource/fbcode/vision/fair/pytorch3d/docs/tutorials/Dataloaders_ShapeNetCore_R2N2.ipynb"
    },
    "bento_stylesheets": {
      "bento/extensions/flow/main.css": true,
      "bento/extensions/kernel_selector/main.css": true,
      "bento/extensions/kernel_ui/main.css": true,
      "bento/extensions/new_kernel/main.css": true,
      "bento/extensions/system_usage/main.css": true,
      "bento/extensions/theme/main.css": true
    },
    "disseminate_notebook_info": {
      "backup_notebook_id": "669429066983805"
    },
    "kernelspec": {
      "display_name": "intro_to_cv",
      "language": "python",
      "name": "bento_kernel_intro_to_cv"
    },
    "language_info": {
      "codemirror_mode": {
        "name": "ipython",
        "version": 3
      },
      "file_extension": ".py",
      "mimetype": "text/x-python",
      "name": "python",
      "nbconvert_exporter": "python",
      "pygments_lexer": "ipython3",
      "version": "3.7.5+"
    },
    "colab": {
      "name": "dataloaders_ShapeNetCore_R2N2.ipynb",
      "provenance": []
    }
  },
  "cells": [
    {
      "cell_type": "code",
      "metadata": {
        "id": "eRKSLORsHgWw"
      },
      "source": [
        "!python"
      ],
      "execution_count": null,
      "outputs": []
    },
    {
      "cell_type": "code",
      "metadata": {
        "id": "FVNABxkuGwS8"
      },
      "source": [
        "# Copyright (c) Facebook, Inc. and its affiliates. All rights reserved."
      ],
      "execution_count": null,
      "outputs": []
    },
    {
      "cell_type": "markdown",
      "metadata": {
        "id": "pr-wv8JFGwTB"
      },
      "source": [
        "# Dataloaders for ShapeNetCore and R2N2\n",
        "This tutorial shows how to:\n",
        "- Load models from ShapeNetCore and R2N2 using PyTorch3D's data loaders.\n",
        "- Pass the loaded datasets to `torch.utils.data.DataLoader`.\n",
        "- Render ShapeNetCore models with PyTorch3D's renderer.\n",
        "- Render R2N2 models with the same orientations as the original renderings in the dataset.\n",
        "- Visualize R2N2 model voxels."
      ]
    },
    {
      "cell_type": "markdown",
      "metadata": {
        "id": "7FlKnmM7GwTD"
      },
      "source": [
        "## 0. Install and import modules"
      ]
    },
    {
      "cell_type": "markdown",
      "metadata": {
        "id": "rzDd9BLFGwTE"
      },
      "source": [
        "If `torch`, `torchvision` and `pytorch3d` are not installed, run the following cell:"
      ]
    },
    {
      "cell_type": "code",
      "metadata": {
        "colab": {
          "base_uri": "https://localhost:8080/"
        },
        "id": "IXULowGeGwTF",
        "outputId": "c1b81ac8-eea2-496f-cbc2-3c3db137657a"
      },
      "source": [
        "!pip install torch torchvision\n",
        "import os\n",
        "import sys\n",
        "import torch\n",
        "if torch.__version__=='1.6.0+cu101' and sys.platform.startswith('linux'):\n",
        "    !pip install pytorch3d\n",
        "else:\n",
        "    need_pytorch3d=False\n",
        "    try:\n",
        "        import pytorch3d\n",
        "    except ModuleNotFoundError:\n",
        "        need_pytorch3d=True\n",
        "    if need_pytorch3d:\n",
        "        !curl -LO https://github.com/NVIDIA/cub/archive/1.10.0.tar.gz\n",
        "        !tar xzf 1.10.0.tar.gz\n",
        "        os.environ[\"CUB_HOME\"] = os.getcwd() + \"/cub-1.10.0\"\n",
        "        !pip install 'git+https://github.com/facebookresearch/pytorch3d.git@stable'"
      ],
      "execution_count": 1,
      "outputs": [
        {
          "output_type": "stream",
          "text": [
            "Requirement already satisfied: torch in /usr/local/lib/python3.6/dist-packages (1.7.0+cu101)\n",
            "Requirement already satisfied: torchvision in /usr/local/lib/python3.6/dist-packages (0.8.1+cu101)\n",
            "Requirement already satisfied: typing-extensions in /usr/local/lib/python3.6/dist-packages (from torch) (3.7.4.3)\n",
            "Requirement already satisfied: future in /usr/local/lib/python3.6/dist-packages (from torch) (0.16.0)\n",
            "Requirement already satisfied: numpy in /usr/local/lib/python3.6/dist-packages (from torch) (1.19.5)\n",
            "Requirement already satisfied: dataclasses in /usr/local/lib/python3.6/dist-packages (from torch) (0.8)\n",
            "Requirement already satisfied: pillow>=4.1.1 in /usr/local/lib/python3.6/dist-packages (from torchvision) (7.0.0)\n",
            "  % Total    % Received % Xferd  Average Speed   Time    Time     Time  Current\n",
            "                                 Dload  Upload   Total   Spent    Left  Speed\n",
            "100   118    0   118    0     0    424      0 --:--:-- --:--:-- --:--:--   424\n",
            "100  404k    0  404k    0     0   470k      0 --:--:-- --:--:-- --:--:-- 2466k\n",
            "Collecting git+https://github.com/facebookresearch/pytorch3d.git@stable\n",
            "  Cloning https://github.com/facebookresearch/pytorch3d.git (to revision stable) to /tmp/pip-req-build-_i7o0esh\n",
            "  Running command git clone -q https://github.com/facebookresearch/pytorch3d.git /tmp/pip-req-build-_i7o0esh\n",
            "  Running command git checkout -q 18ce14cd31a2f1c99e16d727e1755156c360453a\n",
            "Requirement already satisfied: torchvision>=0.4 in /usr/local/lib/python3.6/dist-packages (from pytorch3d==0.3.0) (0.8.1+cu101)\n",
            "Collecting fvcore\n",
            "  Downloading https://files.pythonhosted.org/packages/ed/38/e425d90ddd07e3d23a84b49d636df76a41f645e62fd6dc944b5769c8ab34/fvcore-0.1.3.post20210204.tar.gz\n",
            "Requirement already satisfied: pillow>=4.1.1 in /usr/local/lib/python3.6/dist-packages (from torchvision>=0.4->pytorch3d==0.3.0) (7.0.0)\n",
            "Requirement already satisfied: numpy in /usr/local/lib/python3.6/dist-packages (from torchvision>=0.4->pytorch3d==0.3.0) (1.19.5)\n",
            "Requirement already satisfied: torch==1.7.0 in /usr/local/lib/python3.6/dist-packages (from torchvision>=0.4->pytorch3d==0.3.0) (1.7.0+cu101)\n",
            "Collecting yacs>=0.1.6\n",
            "  Downloading https://files.pythonhosted.org/packages/38/4f/fe9a4d472aa867878ce3bb7efb16654c5d63672b86dc0e6e953a67018433/yacs-0.1.8-py3-none-any.whl\n",
            "Collecting pyyaml>=5.1\n",
            "\u001b[?25l  Downloading https://files.pythonhosted.org/packages/7a/5b/bc0b5ab38247bba158504a410112b6c03f153c652734ece1849749e5f518/PyYAML-5.4.1-cp36-cp36m-manylinux1_x86_64.whl (640kB)\n",
            "\u001b[K     |████████████████████████████████| 645kB 12.3MB/s \n",
            "\u001b[?25hRequirement already satisfied: tqdm in /usr/local/lib/python3.6/dist-packages (from fvcore->pytorch3d==0.3.0) (4.41.1)\n",
            "Requirement already satisfied: termcolor>=1.1 in /usr/local/lib/python3.6/dist-packages (from fvcore->pytorch3d==0.3.0) (1.1.0)\n",
            "Requirement already satisfied: tabulate in /usr/local/lib/python3.6/dist-packages (from fvcore->pytorch3d==0.3.0) (0.8.7)\n",
            "Collecting iopath>=0.1.2\n",
            "  Downloading https://files.pythonhosted.org/packages/f2/c8/1830019bcecf26e76c3fdc36e2a6fa454388a233894dcf6f5eb00a881468/iopath-0.1.3.tar.gz\n",
            "Requirement already satisfied: future in /usr/local/lib/python3.6/dist-packages (from torch==1.7.0->torchvision>=0.4->pytorch3d==0.3.0) (0.16.0)\n",
            "Requirement already satisfied: typing-extensions in /usr/local/lib/python3.6/dist-packages (from torch==1.7.0->torchvision>=0.4->pytorch3d==0.3.0) (3.7.4.3)\n",
            "Requirement already satisfied: dataclasses in /usr/local/lib/python3.6/dist-packages (from torch==1.7.0->torchvision>=0.4->pytorch3d==0.3.0) (0.8)\n",
            "Collecting portalocker\n",
            "  Downloading https://files.pythonhosted.org/packages/82/22/e684c9e2e59b561dbe36538852e81849122c666c423448e3a5c99362c228/portalocker-2.2.1-py2.py3-none-any.whl\n",
            "Building wheels for collected packages: pytorch3d, fvcore, iopath\n",
            "  Building wheel for pytorch3d (setup.py) ... \u001b[?25l\u001b[?25hdone\n",
            "  Created wheel for pytorch3d: filename=pytorch3d-0.3.0-cp36-cp36m-linux_x86_64.whl size=17869310 sha256=0ccdd427b72c5012e95e25cef7cbee11ed505c441447544decf4ee095832ca62\n",
            "  Stored in directory: /tmp/pip-ephem-wheel-cache-qn_chx9q/wheels/89/69/08/d864f516508b5d943259c6088baa150ebdd3659b5dde4e3571\n",
            "  Building wheel for fvcore (setup.py) ... \u001b[?25l\u001b[?25hdone\n",
            "  Created wheel for fvcore: filename=fvcore-0.1.3.post20210204-cp36-none-any.whl size=44945 sha256=1acf851abfb83df02f1f034f819852cb3920d3585eb60527d7b7009183b13364\n",
            "  Stored in directory: /root/.cache/pip/wheels/7a/d5/3d/1393f94e0a0c6345f674387da5bd382c9aba98a23371a3804e\n",
            "  Building wheel for iopath (setup.py) ... \u001b[?25l\u001b[?25hdone\n",
            "  Created wheel for iopath: filename=iopath-0.1.3-cp36-none-any.whl size=11169 sha256=834df0d65da50587b4b6bea2e7c06ad3be1fce72a07ea76977851337ab402292\n",
            "  Stored in directory: /root/.cache/pip/wheels/a9/1d/55/94a55e032409ac7617f9cbb88a0fa2cf4e7208806c29730804\n",
            "Successfully built pytorch3d fvcore iopath\n",
            "Installing collected packages: pyyaml, yacs, portalocker, iopath, fvcore, pytorch3d\n",
            "  Found existing installation: PyYAML 3.13\n",
            "    Uninstalling PyYAML-3.13:\n",
            "      Successfully uninstalled PyYAML-3.13\n",
            "Successfully installed fvcore-0.1.3.post20210204 iopath-0.1.3 portalocker-2.2.1 pytorch3d-0.3.0 pyyaml-5.4.1 yacs-0.1.8\n"
          ],
          "name": "stdout"
        }
      ]
    },
    {
      "cell_type": "code",
      "metadata": {
        "colab": {
          "base_uri": "https://localhost:8080/"
        },
        "id": "7984IgTIGwTG",
        "outputId": "18d92273-e9f1-40d0-d14b-ee12e397b9bd"
      },
      "source": [
        "import numpy as np\n",
        "import torch\n",
        "\n",
        "from pytorch3d.datasets import (\n",
        "    R2N2,\n",
        "    ShapeNetCore,\n",
        "    collate_batched_meshes,\n",
        "    render_cubified_voxels,\n",
        ")\n",
        "from pytorch3d.renderer import (\n",
        "    OpenGLPerspectiveCameras,\n",
        "    PointLights,\n",
        "    RasterizationSettings,\n",
        "    TexturesVertex,\n",
        "    look_at_view_transform,\n",
        ")\n",
        "\n",
        "from pytorch3d.structures import Meshes\n",
        "from torch.utils.data import DataLoader\n",
        "\n",
        "# add path for demo utils functions \n",
        "import sys\n",
        "import os\n",
        "sys.path.append(os.path.abspath(''))"
      ],
      "execution_count": 3,
      "outputs": [
        {
          "output_type": "stream",
          "text": [
            "** fvcore version of PathManager will be deprecated soon. **\n",
            "** Please migrate to the version in iopath repo. **\n",
            "https://github.com/facebookresearch/iopath \n",
            "\n"
          ],
          "name": "stderr"
        }
      ]
    },
    {
      "cell_type": "markdown",
      "metadata": {
        "id": "aTuaLNszGwTH"
      },
      "source": [
        "If using **Google Colab**, fetch the utils file for plotting image grids:"
      ]
    },
    {
      "cell_type": "code",
      "metadata": {
        "colab": {
          "base_uri": "https://localhost:8080/"
        },
        "id": "6ciz91CoGwTI",
        "outputId": "1ead4eaf-3c19-4959-aea1-13b1866198e6"
      },
      "source": [
        "!wget https://raw.githubusercontent.com/facebookresearch/pytorch3d/master/docs/tutorials/utils/plot_image_grid.py\n",
        "from plot_image_grid import image_grid"
      ],
      "execution_count": 4,
      "outputs": [
        {
          "output_type": "stream",
          "text": [
            "--2021-02-08 06:37:17--  https://raw.githubusercontent.com/facebookresearch/pytorch3d/master/docs/tutorials/utils/plot_image_grid.py\n",
            "Resolving raw.githubusercontent.com (raw.githubusercontent.com)... 151.101.0.133, 151.101.64.133, 151.101.128.133, ...\n",
            "Connecting to raw.githubusercontent.com (raw.githubusercontent.com)|151.101.0.133|:443... connected.\n",
            "HTTP request sent, awaiting response... 200 OK\n",
            "Length: 1472 (1.4K) [text/plain]\n",
            "Saving to: ‘plot_image_grid.py’\n",
            "\n",
            "plot_image_grid.py  100%[===================>]   1.44K  --.-KB/s    in 0s      \n",
            "\n",
            "2021-02-08 06:37:17 (33.0 MB/s) - ‘plot_image_grid.py’ saved [1472/1472]\n",
            "\n"
          ],
          "name": "stdout"
        }
      ]
    },
    {
      "cell_type": "markdown",
      "metadata": {
        "id": "IbaDhob1GwTJ"
      },
      "source": [
        "OR if running locally uncomment and run the following cell:"
      ]
    },
    {
      "cell_type": "code",
      "metadata": {
        "id": "IkyQlloJGwTJ"
      },
      "source": [
        "# from utils import image_grid"
      ],
      "execution_count": null,
      "outputs": []
    },
    {
      "cell_type": "code",
      "metadata": {
        "colab": {
          "base_uri": "https://localhost:8080/"
        },
        "id": "VN7HZN9NKsq2",
        "outputId": "5a4b1eb0-9040-448d-dae1-9d5e34e8d338"
      },
      "source": [
        "!wget https://github.com/facebookresearch/pytorch3d/blob/master/pytorch3d/datasets/shapenet/shapenet_synset_dict_v1.json"
      ],
      "execution_count": 14,
      "outputs": [
        {
          "output_type": "stream",
          "text": [
            "--2021-02-08 06:46:54--  https://github.com/facebookresearch/pytorch3d/blob/master/pytorch3d/datasets/shapenet/shapenet_synset_dict_v1.json\n",
            "Resolving github.com (github.com)... 140.82.113.4\n",
            "Connecting to github.com (github.com)|140.82.113.4|:443... connected.\n",
            "HTTP request sent, awaiting response... 200 OK\n",
            "Length: unspecified [text/html]\n",
            "Saving to: ‘shapenet_synset_dict_v1.json’\n",
            "\n",
            "shapenet_synset_dic     [ <=>                ] 112.89K   609KB/s    in 0.2s    \n",
            "\n",
            "2021-02-08 06:46:55 (609 KB/s) - ‘shapenet_synset_dict_v1.json’ saved [115604]\n",
            "\n"
          ],
          "name": "stdout"
        }
      ]
    },
    {
      "cell_type": "code",
      "metadata": {
        "id": "qvCvx9DOK2Mx"
      },
      "source": [
        "!cp /content/shapenet_synset_dict_v1.json /usr/local/lib/python3.6/dist-packages/pytorch3d/datasets/shapenet/"
      ],
      "execution_count": 15,
      "outputs": []
    },
    {
      "cell_type": "markdown",
      "metadata": {
        "id": "Zsod_aSRGwTK"
      },
      "source": [
        "## 1. Load the datasets"
      ]
    },
    {
      "cell_type": "markdown",
      "metadata": {
        "id": "RxBHtwNyGwTL"
      },
      "source": [
        "If you haven't already downloaded the ShapeNetCore dataset, first do that following the instructions here: https://www.shapenet.org/. ShapeNetCore is a subset of the ShapeNet dataset. In PyTorch3D we support both version 1 (57 categories) and version 2 (55 categories).\n",
        "\n",
        "Then modify `SHAPENET_PATH` below to you local path to the ShapeNetCore dataset folder. "
      ]
    },
    {
      "cell_type": "code",
      "metadata": {
        "id": "C1pCMnhLGwTM"
      },
      "source": [
        "# Setup\n",
        "if torch.cuda.is_available():\n",
        "    device = torch.device(\"cuda:0\")\n",
        "    torch.cuda.set_device(device)\n",
        "else:\n",
        "    device = torch.device(\"cpu\")\n",
        "    \n",
        "SHAPENET_PATH_v2 = \"/content/drive/MyDrive/shapenet_re_unzip/ShapeNetCore.v2\"\n",
        "shapenet_dataset = ShapeNetCore(SHAPENET_PATH_v2, version=2, load_textures=True)"
      ],
      "execution_count": null,
      "outputs": []
    },
    {
      "cell_type": "code",
      "metadata": {
        "colab": {
          "base_uri": "https://localhost:8080/"
        },
        "id": "DE6EiSvbJI6s",
        "outputId": "0c6394c5-374a-4812-ac55-5fbfad08153e"
      },
      "source": [
        "from google.colab import drive\n",
        "drive.mount('/content/drive')"
      ],
      "execution_count": 5,
      "outputs": [
        {
          "output_type": "stream",
          "text": [
            "Mounted at /content/drive\n"
          ],
          "name": "stdout"
        }
      ]
    },
    {
      "cell_type": "markdown",
      "metadata": {
        "id": "EkklpPgWGwTN"
      },
      "source": [
        "The R2N2 dataset can be downloaded using the instructions here: http://3d-r2n2.stanford.edu/. Look at the links for `ShapeNetRendering` and `ShapeNetVox32`. The R2N2 dataset contains 13 categories that are a subset of the ShapeNetCore v.1\n",
        "dataset. The R2N2 dataset also contains its own 24 renderings of each object and voxelized models.\n",
        "\n",
        "Then modify `R2N2_PATH` and `SPLITS_PATH` below to your local R2N2 dataset folder path and splits file path respectively. Here we will load the `train` split of R2N2 and ask the voxels of each model to be returned."
      ]
    },
    {
      "cell_type": "code",
      "metadata": {
        "id": "GdeoJSKeGwTO"
      },
      "source": [
        "R2N2_PATH = \"\"\n",
        "SPLITS_PATH = \"None\"\n",
        "r2n2_dataset = R2N2(\"train\", SHAPENET_PATH, R2N2_PATH, SPLITS_PATH, return_voxels=True)"
      ],
      "execution_count": null,
      "outputs": []
    },
    {
      "cell_type": "markdown",
      "metadata": {
        "id": "o-eCh4h9GwTO"
      },
      "source": [
        "We can retrieve a model by indexing into the loaded dataset. For both ShapeNetCore and R2N2, we can examine the category this model belongs to (in the form of a synset id, equivalend to wnid described in ImageNet's API: http://image-net.org/download-API), its model id, and its vertices and faces."
      ]
    },
    {
      "cell_type": "code",
      "metadata": {
        "id": "43DdMRqAGwTP"
      },
      "source": [
        "shapenet_model = shapenet_dataset[6]\n",
        "print(\"This model belongs to the category \" + shapenet_model[\"synset_id\"] + \".\")\n",
        "print(\"This model has model id \" + shapenet_model[\"model_id\"] + \".\")\n",
        "model_verts, model_faces = shapenet_model[\"verts\"], shapenet_model[\"faces\"]"
      ],
      "execution_count": null,
      "outputs": []
    },
    {
      "cell_type": "markdown",
      "metadata": {
        "id": "mIrzzAOiGwTQ"
      },
      "source": [
        "We can use its vertices and faces to form a `Meshes` object which is a PyTorch3D datastructure for working with batched meshes."
      ]
    },
    {
      "cell_type": "code",
      "metadata": {
        "id": "VpO9lIiYGwTQ"
      },
      "source": [
        "model_textures = TexturesVertex(verts_features=torch.ones_like(model_verts, device=device)[None])\n",
        "shapenet_model_mesh = Meshes(\n",
        "    verts=[model_verts.to(device)],   \n",
        "    faces=[model_faces.to(device)],\n",
        "    textures=model_textures\n",
        ")"
      ],
      "execution_count": null,
      "outputs": []
    },
    {
      "cell_type": "markdown",
      "metadata": {
        "id": "QfCJzyQPGwTR"
      },
      "source": [
        "With R2N2, we can further examine R2N2's original renderings. For instance, if we would like to see the second and third views of the eleventh objects in the R2N2 dataset, we can do the following:"
      ]
    },
    {
      "cell_type": "code",
      "metadata": {
        "id": "aV42UZaAGwTS"
      },
      "source": [
        "r2n2_renderings = r2n2_dataset[10,[1,2]]\n",
        "image_grid(r2n2_renderings.numpy(), rows=1, cols=2, rgb=True)"
      ],
      "execution_count": null,
      "outputs": []
    },
    {
      "cell_type": "markdown",
      "metadata": {
        "id": "DNl16QrvGwTS"
      },
      "source": [
        "## 2. Use the datasets with `torch.utils.data.DataLoader`"
      ]
    },
    {
      "cell_type": "markdown",
      "metadata": {
        "id": "dVnqIw9wGwTT"
      },
      "source": [
        "Training deep learning models, usually requires passing in batches of inputs. The `torch.utils.data.DataLoader` from Pytorch helps us do this. PyTorch3D provides a function `collate_batched_meshes` to group the input meshes into a single `Meshes` object which represents the batch. The `Meshes` datastructure can then be used directly by other PyTorch3D ops which might be part of the deep learning model (e.g. `graph_conv`).\n",
        "\n",
        "For R2N2, if all the models in the batch have the same number of views, the views, rotation matrices, translation matrices, intrinsic matrices and voxels will also be stacked into batched tensors.\n",
        "\n",
        "**NOTE**: All models in the `val` split of R2N2 have 24 views, but there are 8 models that split their 24 views between `train` and `test` splits, in which case `collate_batched_meshes` will only be able to join the matrices, views and voxels as lists. However, this can be avoided by laoding only one view of each model by setting `return_all_views = False`."
      ]
    },
    {
      "cell_type": "code",
      "metadata": {
        "id": "kafHiRz2GwTU"
      },
      "source": [
        "batch_size = 12\n",
        "r2n2_single_view = R2N2(\"train\", SHAPENET_PATH, R2N2_PATH, SPLITS_PATH, return_all_views=False, return_voxels=True)\n",
        "r2n2_loader = DataLoader(r2n2_single_view, batch_size=batch_size, collate_fn=collate_batched_meshes)"
      ],
      "execution_count": null,
      "outputs": []
    },
    {
      "cell_type": "markdown",
      "metadata": {
        "id": "j8dNkkaQGwTW"
      },
      "source": [
        "Let's visualize all the views (one for each model) in the batch:"
      ]
    },
    {
      "cell_type": "code",
      "metadata": {
        "id": "xdUvmNCtGwTW"
      },
      "source": [
        "it = iter(r2n2_loader)\n",
        "r2n2_batch = next(it)\n",
        "batch_renderings = r2n2_batch[\"images\"] # (N, V, H, W, 3), and in this case V is 1.\n",
        "image_grid(batch_renderings.squeeze().numpy(), rows=3, cols=4, rgb=True)"
      ],
      "execution_count": null,
      "outputs": []
    },
    {
      "cell_type": "markdown",
      "metadata": {
        "id": "amCi2JYPGwTX"
      },
      "source": [
        "## 3. Render ShapeNetCore models with PyTorch3D's differntiable renderer"
      ]
    },
    {
      "cell_type": "markdown",
      "metadata": {
        "id": "yMbXxNf9GwTY"
      },
      "source": [
        "Both `ShapeNetCore` and `R2N2` dataloaders have customized `render` functions that support rendering models by specifying their model ids, categories or indices using PyTorch3D's differentiable renderer implementation."
      ]
    },
    {
      "cell_type": "code",
      "metadata": {
        "id": "Tn_WwqZzGwTY"
      },
      "source": [
        "# Rendering settings.\n",
        "R, T = look_at_view_transform(1.0, 1.0, 90)\n",
        "cameras = OpenGLPerspectiveCameras(R=R, T=T, device=device)\n",
        "raster_settings = RasterizationSettings(image_size=512)\n",
        "lights = PointLights(location=torch.tensor([0.0, 1.0, -2.0], device=device)[None],device=device)"
      ],
      "execution_count": 59,
      "outputs": []
    },
    {
      "cell_type": "markdown",
      "metadata": {
        "id": "U2PFe0xFGwTZ"
      },
      "source": [
        "First we will try to render three models by their model ids:"
      ]
    },
    {
      "cell_type": "code",
      "metadata": {
        "colab": {
          "base_uri": "https://localhost:8080/",
          "height": 391
        },
        "id": "6XP_IBE4GwTZ",
        "outputId": "a2948a03-eae5-4214-8bb1-62f572492e37"
      },
      "source": [
        "images_by_model_ids = shapenet_dataset.render(\n",
        "    model_ids=[\n",
        "        \"13394ca47c89f91525a3aaf903a41c90\",\n",
        "        \"14755c2ee8e693aba508f621166382b0\",\n",
        "        \"156c4207af6d2c8f1fdc97905708b8ea\",\n",
        "    ],\n",
        "    device=device,\n",
        "    cameras=cameras,\n",
        "    raster_settings=raster_settings,\n",
        "    lights=lights,\n",
        ")\n",
        "image_grid(images_by_model_ids.cpu().numpy(), rows=1, cols=3, rgb=True)"
      ],
      "execution_count": 58,
      "outputs": [
        {
          "output_type": "error",
          "ename": "ValueError",
          "evalue": "ignored",
          "traceback": [
            "\u001b[0;31m---------------------------------------------------------------------------\u001b[0m",
            "\u001b[0;31mValueError\u001b[0m                                Traceback (most recent call last)",
            "\u001b[0;32m<ipython-input-58-ba895b5394c5>\u001b[0m in \u001b[0;36m<module>\u001b[0;34m()\u001b[0m\n\u001b[1;32m      8\u001b[0m     \u001b[0mcameras\u001b[0m\u001b[0;34m=\u001b[0m\u001b[0mcameras\u001b[0m\u001b[0;34m,\u001b[0m\u001b[0;34m\u001b[0m\u001b[0;34m\u001b[0m\u001b[0m\n\u001b[1;32m      9\u001b[0m     \u001b[0mraster_settings\u001b[0m\u001b[0;34m=\u001b[0m\u001b[0mraster_settings\u001b[0m\u001b[0;34m,\u001b[0m\u001b[0;34m\u001b[0m\u001b[0;34m\u001b[0m\u001b[0m\n\u001b[0;32m---> 10\u001b[0;31m     \u001b[0mlights\u001b[0m\u001b[0;34m=\u001b[0m\u001b[0mlights\u001b[0m\u001b[0;34m,\u001b[0m\u001b[0;34m\u001b[0m\u001b[0;34m\u001b[0m\u001b[0m\n\u001b[0m\u001b[1;32m     11\u001b[0m )\n\u001b[1;32m     12\u001b[0m \u001b[0mimage_grid\u001b[0m\u001b[0;34m(\u001b[0m\u001b[0mimages_by_model_ids\u001b[0m\u001b[0;34m.\u001b[0m\u001b[0mcpu\u001b[0m\u001b[0;34m(\u001b[0m\u001b[0;34m)\u001b[0m\u001b[0;34m.\u001b[0m\u001b[0mnumpy\u001b[0m\u001b[0;34m(\u001b[0m\u001b[0;34m)\u001b[0m\u001b[0;34m,\u001b[0m \u001b[0mrows\u001b[0m\u001b[0;34m=\u001b[0m\u001b[0;36m1\u001b[0m\u001b[0;34m,\u001b[0m \u001b[0mcols\u001b[0m\u001b[0;34m=\u001b[0m\u001b[0;36m3\u001b[0m\u001b[0;34m,\u001b[0m \u001b[0mrgb\u001b[0m\u001b[0;34m=\u001b[0m\u001b[0;32mTrue\u001b[0m\u001b[0;34m)\u001b[0m\u001b[0;34m\u001b[0m\u001b[0;34m\u001b[0m\u001b[0m\n",
            "\u001b[0;32m/usr/local/lib/python3.6/dist-packages/pytorch3d/datasets/shapenet_base.py\u001b[0m in \u001b[0;36mrender\u001b[0;34m(self, model_ids, categories, sample_nums, idxs, shader_type, device, **kwargs)\u001b[0m\n\u001b[1;32m    136\u001b[0m             \u001b[0mBatch\u001b[0m \u001b[0mof\u001b[0m \u001b[0mrendered\u001b[0m \u001b[0mimages\u001b[0m \u001b[0mof\u001b[0m \u001b[0mshape\u001b[0m \u001b[0;34m(\u001b[0m\u001b[0mN\u001b[0m\u001b[0;34m,\u001b[0m \u001b[0mH\u001b[0m\u001b[0;34m,\u001b[0m \u001b[0mW\u001b[0m\u001b[0;34m,\u001b[0m \u001b[0;36m3\u001b[0m\u001b[0;34m)\u001b[0m\u001b[0;34m.\u001b[0m\u001b[0;34m\u001b[0m\u001b[0;34m\u001b[0m\u001b[0m\n\u001b[1;32m    137\u001b[0m         \"\"\"\n\u001b[0;32m--> 138\u001b[0;31m         \u001b[0midxs\u001b[0m \u001b[0;34m=\u001b[0m \u001b[0mself\u001b[0m\u001b[0;34m.\u001b[0m\u001b[0m_handle_render_inputs\u001b[0m\u001b[0;34m(\u001b[0m\u001b[0mmodel_ids\u001b[0m\u001b[0;34m,\u001b[0m \u001b[0mcategories\u001b[0m\u001b[0;34m,\u001b[0m \u001b[0msample_nums\u001b[0m\u001b[0;34m,\u001b[0m \u001b[0midxs\u001b[0m\u001b[0;34m)\u001b[0m\u001b[0;34m\u001b[0m\u001b[0;34m\u001b[0m\u001b[0m\n\u001b[0m\u001b[1;32m    139\u001b[0m         \u001b[0;31m# Use the getitem method which loads mesh + texture\u001b[0m\u001b[0;34m\u001b[0m\u001b[0;34m\u001b[0m\u001b[0;34m\u001b[0m\u001b[0m\n\u001b[1;32m    140\u001b[0m         \u001b[0mmodels\u001b[0m \u001b[0;34m=\u001b[0m \u001b[0;34m[\u001b[0m\u001b[0mself\u001b[0m\u001b[0;34m[\u001b[0m\u001b[0midx\u001b[0m\u001b[0;34m]\u001b[0m \u001b[0;32mfor\u001b[0m \u001b[0midx\u001b[0m \u001b[0;32min\u001b[0m \u001b[0midxs\u001b[0m\u001b[0;34m]\u001b[0m\u001b[0;34m\u001b[0m\u001b[0;34m\u001b[0m\u001b[0m\n",
            "\u001b[0;32m/usr/local/lib/python3.6/dist-packages/pytorch3d/datasets/shapenet_base.py\u001b[0m in \u001b[0;36m_handle_render_inputs\u001b[0;34m(self, model_ids, categories, sample_nums, idxs)\u001b[0m\n\u001b[1;32m    195\u001b[0m                 \u001b[0;32mif\u001b[0m \u001b[0mmodel_id\u001b[0m \u001b[0;32mnot\u001b[0m \u001b[0;32min\u001b[0m \u001b[0mself\u001b[0m\u001b[0;34m.\u001b[0m\u001b[0mmodel_ids\u001b[0m\u001b[0;34m:\u001b[0m\u001b[0;34m\u001b[0m\u001b[0;34m\u001b[0m\u001b[0m\n\u001b[1;32m    196\u001b[0m                     raise ValueError(\n\u001b[0;32m--> 197\u001b[0;31m                         \u001b[0;34m\"model_id %s not found in the loaded dataset.\"\u001b[0m \u001b[0;34m%\u001b[0m \u001b[0mmodel_id\u001b[0m\u001b[0;34m\u001b[0m\u001b[0;34m\u001b[0m\u001b[0m\n\u001b[0m\u001b[1;32m    198\u001b[0m                     )\n\u001b[1;32m    199\u001b[0m                 \u001b[0midxs\u001b[0m\u001b[0;34m.\u001b[0m\u001b[0mappend\u001b[0m\u001b[0;34m(\u001b[0m\u001b[0mself\u001b[0m\u001b[0;34m.\u001b[0m\u001b[0mmodel_ids\u001b[0m\u001b[0;34m.\u001b[0m\u001b[0mindex\u001b[0m\u001b[0;34m(\u001b[0m\u001b[0mmodel_id\u001b[0m\u001b[0;34m)\u001b[0m\u001b[0;34m)\u001b[0m\u001b[0;34m\u001b[0m\u001b[0;34m\u001b[0m\u001b[0m\n",
            "\u001b[0;31mValueError\u001b[0m: model_id 13394ca47c89f91525a3aaf903a41c90 not found in the loaded dataset."
          ]
        }
      ]
    },
    {
      "cell_type": "markdown",
      "metadata": {
        "id": "swihiAG2GwTa"
      },
      "source": [
        "Suppose we would like to render the first three models in the dataset, we can render models by their indices:"
      ]
    },
    {
      "cell_type": "code",
      "metadata": {
        "id": "jckElA0xGwTb"
      },
      "source": [
        "images_by_idxs = shapenet_dataset.render(\n",
        "    idxs=list(range(3)),\n",
        "    device=device,\n",
        "    cameras=cameras,\n",
        "    raster_settings=raster_settings,\n",
        "    lights=lights,\n",
        ")\n",
        "image_grid(images_by_idxs.cpu().numpy(), rows=1, cols=3, rgb=True)"
      ],
      "execution_count": null,
      "outputs": []
    },
    {
      "cell_type": "markdown",
      "metadata": {
        "id": "KOr9zZOJGwTb"
      },
      "source": [
        "Alternatively, if we are not interested in any particular models but would like see random models from some specific categories, we can do that by specifying `categories` and `sample_nums`. For example, if we would like to render 2 models from the category \"faucet\" and 3 models from the category \"chair\", we can do the following:"
      ]
    },
    {
      "cell_type": "code",
      "metadata": {
        "id": "5b7v9i_-GwTc"
      },
      "source": [
        "images_by_categories = shapenet_dataset.render(\n",
        "    categories=[\"faucet\", \"chair\"],\n",
        "    sample_nums=[2, 3],\n",
        "    device=device,\n",
        "    cameras=cameras,\n",
        "    raster_settings=raster_settings,\n",
        "    lights=lights,\n",
        ")\n",
        "image_grid(images_by_categories.cpu().numpy(), rows=1, cols=5, rgb=True)"
      ],
      "execution_count": null,
      "outputs": []
    },
    {
      "cell_type": "markdown",
      "metadata": {
        "id": "NJ01XEmYGwTd"
      },
      "source": [
        "If we are not interested in any particular categories and just would like to render some random models from the whole dataset, we can set the number of models to be rendered in `sample_nums` and not specify any `categories`:"
      ]
    },
    {
      "cell_type": "code",
      "metadata": {
        "id": "LRF4EStoGwTd"
      },
      "source": [
        "random_model_images = shapenet_dataset.render(\n",
        "    sample_nums=[3],\n",
        "    device=device,\n",
        "    cameras=cameras,\n",
        "    raster_settings=raster_settings,\n",
        "    lights=lights,\n",
        ")\n",
        "image_grid(random_model_images.cpu().numpy(), rows=1, cols=5, rgb=True)"
      ],
      "execution_count": null,
      "outputs": []
    },
    {
      "cell_type": "markdown",
      "metadata": {
        "id": "Y1rY3ia2GwTe"
      },
      "source": [
        "## 4. Render R2N2 models with the same orientations as the original renderings in the dataset"
      ]
    },
    {
      "cell_type": "markdown",
      "metadata": {
        "id": "86s8hA2xGwTe"
      },
      "source": [
        "We can render R2N2 models the same way as we rendered ShapeNetCore models above. In addition, we can also render R2N2 models with the same orientations as the original renderings in the dataset. For this we will use R2N2's customized `render` function and a different type of PyTorch3D camera called `BlenderCamera`."
      ]
    },
    {
      "cell_type": "markdown",
      "metadata": {
        "id": "13_VhGI2GwTf"
      },
      "source": [
        "In this example, we will render the seventh model with the same orientations as its second and third views. First we will retrieve R2N2's original renderings to compare with the result."
      ]
    },
    {
      "cell_type": "code",
      "metadata": {
        "id": "9RA2p0A2GwTg"
      },
      "source": [
        "original_rendering = r2n2_dataset[6,[1,2]][\"images\"]\n",
        "image_grid(original_rendering.numpy(), rows=1, cols=2, rgb=True)"
      ],
      "execution_count": null,
      "outputs": []
    },
    {
      "cell_type": "markdown",
      "metadata": {
        "id": "f6n0yGUUGwTg"
      },
      "source": [
        "Next, we will visualize PyTorch3d's renderings:"
      ]
    },
    {
      "cell_type": "code",
      "metadata": {
        "id": "GcNNNrckGwTh"
      },
      "source": [
        "r2n2_oriented_images = r2n2_dataset.render(\n",
        "    idxs=[6],\n",
        "    view_idxs=[1,2],\n",
        "    device=device,\n",
        "    raster_settings=raster_settings,\n",
        "    lights=lights,\n",
        ")\n",
        "image_grid(r2n2_oriented_images.cpu().numpy(), rows=1, cols=2, rgb=True)"
      ],
      "execution_count": null,
      "outputs": []
    },
    {
      "cell_type": "markdown",
      "metadata": {
        "id": "V0ZTQl2pGwTh"
      },
      "source": [
        "## 5. Visualize R2N2 models' voxels"
      ]
    },
    {
      "cell_type": "markdown",
      "metadata": {
        "id": "2wxye0ZQGwTh"
      },
      "source": [
        "R2N2 dataloader also returns models' voxels. We can visualize them by utilizing R2N2's `render_vox_to_mesh` function. This will cubify the voxels to a Meshes object, which will then be rendered."
      ]
    },
    {
      "cell_type": "markdown",
      "metadata": {
        "id": "67fX0UQmGwTh"
      },
      "source": [
        "In this example we will visualize the tenth model in the dataset with the same orientation of its second and third views. First we will retrieve R2N2's original renderings to compare with the result."
      ]
    },
    {
      "cell_type": "code",
      "metadata": {
        "id": "W3YLVYi1GwTi"
      },
      "source": [
        "r2n2_model = r2n2_dataset[9,[1,2]]\n",
        "original_rendering = r2n2_model[\"images\"]\n",
        "image_grid(original_rendering.numpy(), rows=1, cols=2, rgb=True)"
      ],
      "execution_count": null,
      "outputs": []
    },
    {
      "cell_type": "markdown",
      "metadata": {
        "id": "58rldIjlGwTi"
      },
      "source": [
        "Next, we will pass the voxels to `render_vox_to_mesh`:"
      ]
    },
    {
      "cell_type": "code",
      "metadata": {
        "id": "bA3bdarMGwTi"
      },
      "source": [
        "vox_render = render_cubified_voxels(r2n2_model[\"voxels\"], device=device)\n",
        "image_grid(vox_render.cpu().numpy(), rows=1, cols=2, rgb=True)"
      ],
      "execution_count": null,
      "outputs": []
    },
    {
      "cell_type": "code",
      "metadata": {
        "id": "tDapeercV02j"
      },
      "source": [
        ""
      ],
      "execution_count": null,
      "outputs": []
    },
    {
      "cell_type": "code",
      "metadata": {
        "colab": {
          "base_uri": "https://localhost:8080/"
        },
        "id": "XC_krBLvV1Ac",
        "outputId": "cf0c04f1-9080-4f39-fc33-29df6d3292a7"
      },
      "source": [
        "import pytorch3d as p3d\r\n",
        "print(p3d.__version__)"
      ],
      "execution_count": 31,
      "outputs": [
        {
          "output_type": "stream",
          "text": [
            "0.3.0\n"
          ],
          "name": "stdout"
        }
      ]
    },
    {
      "cell_type": "code",
      "metadata": {
        "id": "vM_VDG1dV1He"
      },
      "source": [
        "verts, faces, aux = p3d.io.load_obj('/content/drive/MyDrive/shapenet_re_unzip/ShapeNetCore.v2/02773838/10a885f5971d9d4ce858db1dc3499392/models/model_normalized.obj')\r\n",
        "\r\n",
        "mesh = Meshes(verts=[verts], faces=[faces.verts_idx])"
      ],
      "execution_count": 53,
      "outputs": []
    },
    {
      "cell_type": "code",
      "metadata": {
        "id": "wFQG7LuDW9WG"
      },
      "source": [
        "#camera setup\r\n",
        "R, T = p3d.renderer.look_at_view_transform(2.7, 10, 20)\r\n",
        "cameras = p3d.renderer.OpenGLPerspectiveCameras(device=device, R=R, T=T)"
      ],
      "execution_count": 34,
      "outputs": []
    },
    {
      "cell_type": "code",
      "metadata": {
        "id": "72dOKE4WZ9iE"
      },
      "source": [
        "#the way image will be displayed\r\n",
        "raster_settings = p3d.renderer.RasterizationSettings(\r\n",
        "   image_size = 512,\r\n",
        "   blur_radius = 0.0,\r\n",
        "   faces_per_pixel = 1,\r\n",
        "   bin_size = 0\r\n",
        ")"
      ],
      "execution_count": null,
      "outputs": []
    },
    {
      "cell_type": "code",
      "metadata": {
        "id": "-Xd5OZvRZ_vX"
      },
      "source": [
        "#placing light\r\n",
        "lights = p3d.renderer.PointLights(device=device, location=[[1.0, 1.0, -2.0]])"
      ],
      "execution_count": 43,
      "outputs": []
    },
    {
      "cell_type": "code",
      "metadata": {
        "id": "nvgqGo4BXjLt"
      },
      "source": [
        "#renderer settings\r\n",
        "renderer = p3d.renderer.MeshRenderer(\r\n",
        "   rasterizer = p3d.renderer.MeshRasterizer(\r\n",
        "      cameras = cameras,\r\n",
        "      raster_settings = raster_settings\r\n",
        "   ),\r\n",
        "   shader = p3d.renderer.mesh.HardPhongShader(\r\n",
        "      device = device,\r\n",
        "      cameras = cameras,\r\n",
        "      lights = lights\r\n",
        "   )\r\n",
        ")"
      ],
      "execution_count": 48,
      "outputs": []
    },
    {
      "cell_type": "code",
      "metadata": {
        "colab": {
          "base_uri": "https://localhost:8080/",
          "height": 231
        },
        "id": "OiC9dLANaLQi",
        "outputId": "1f00bcac-a49e-430f-c5eb-2701e9f5fac9"
      },
      "source": [
        "#display mesh\r\n",
        "images = renderer(mesh)\r\n",
        "plt.figure(figsize=(10, 10))\r\n",
        "plt.imshow(images[0, ..., :3].cpu().numpy())\r\n",
        "plt.grid(\"off\")\r\n",
        "plt.axis(\"off\")"
      ],
      "execution_count": 49,
      "outputs": [
        {
          "output_type": "error",
          "ename": "NameError",
          "evalue": "ignored",
          "traceback": [
            "\u001b[0;31m---------------------------------------------------------------------------\u001b[0m",
            "\u001b[0;31mNameError\u001b[0m                                 Traceback (most recent call last)",
            "\u001b[0;32m<ipython-input-49-4391461ea84a>\u001b[0m in \u001b[0;36m<module>\u001b[0;34m()\u001b[0m\n\u001b[1;32m      1\u001b[0m \u001b[0;31m#display mesh\u001b[0m\u001b[0;34m\u001b[0m\u001b[0;34m\u001b[0m\u001b[0;34m\u001b[0m\u001b[0m\n\u001b[0;32m----> 2\u001b[0;31m \u001b[0mimages\u001b[0m \u001b[0;34m=\u001b[0m \u001b[0mrenderer\u001b[0m\u001b[0;34m(\u001b[0m\u001b[0mmesh\u001b[0m\u001b[0;34m)\u001b[0m\u001b[0;34m\u001b[0m\u001b[0;34m\u001b[0m\u001b[0m\n\u001b[0m\u001b[1;32m      3\u001b[0m \u001b[0mplt\u001b[0m\u001b[0;34m.\u001b[0m\u001b[0mfigure\u001b[0m\u001b[0;34m(\u001b[0m\u001b[0mfigsize\u001b[0m\u001b[0;34m=\u001b[0m\u001b[0;34m(\u001b[0m\u001b[0;36m10\u001b[0m\u001b[0;34m,\u001b[0m \u001b[0;36m10\u001b[0m\u001b[0;34m)\u001b[0m\u001b[0;34m)\u001b[0m\u001b[0;34m\u001b[0m\u001b[0;34m\u001b[0m\u001b[0m\n\u001b[1;32m      4\u001b[0m \u001b[0mplt\u001b[0m\u001b[0;34m.\u001b[0m\u001b[0mimshow\u001b[0m\u001b[0;34m(\u001b[0m\u001b[0mimages\u001b[0m\u001b[0;34m[\u001b[0m\u001b[0;36m0\u001b[0m\u001b[0;34m,\u001b[0m \u001b[0;34m...\u001b[0m\u001b[0;34m,\u001b[0m \u001b[0;34m:\u001b[0m\u001b[0;36m3\u001b[0m\u001b[0;34m]\u001b[0m\u001b[0;34m.\u001b[0m\u001b[0mcpu\u001b[0m\u001b[0;34m(\u001b[0m\u001b[0;34m)\u001b[0m\u001b[0;34m.\u001b[0m\u001b[0mnumpy\u001b[0m\u001b[0;34m(\u001b[0m\u001b[0;34m)\u001b[0m\u001b[0;34m)\u001b[0m\u001b[0;34m\u001b[0m\u001b[0;34m\u001b[0m\u001b[0m\n\u001b[1;32m      5\u001b[0m \u001b[0mplt\u001b[0m\u001b[0;34m.\u001b[0m\u001b[0mgrid\u001b[0m\u001b[0;34m(\u001b[0m\u001b[0;34m\"off\"\u001b[0m\u001b[0;34m)\u001b[0m\u001b[0;34m\u001b[0m\u001b[0;34m\u001b[0m\u001b[0m\n",
            "\u001b[0;31mNameError\u001b[0m: name 'mesh' is not defined"
          ]
        }
      ]
    },
    {
      "cell_type": "code",
      "metadata": {
        "id": "AorOqgDgXuRz"
      },
      "source": [
        "import matplotlib.pyplot as plt"
      ],
      "execution_count": 39,
      "outputs": []
    },
    {
      "cell_type": "code",
      "metadata": {
        "colab": {
          "base_uri": "https://localhost:8080/",
          "height": 374
        },
        "id": "U1QrUZ5SYGHs",
        "outputId": "75f5cad0-a971-48e1-884e-99a25432d38d"
      },
      "source": [
        "import matplotlib.pyplot as plt\r\n",
        "\r\n",
        "\r\n",
        "\r\n",
        "\r\n",
        "verts, faces, aux = p3d.io.load_obj('/content/drive/MyDrive/shapenet_re_unzip/ShapeNetCore.v2/02773838/10a885f5971d9d4ce858db1dc3499392/models/model_normalized.obj')\r\n",
        "mesh = Meshes(verts=[verts], faces=[faces.verts_idx])\r\n",
        "\r\n",
        "\r\n",
        "#camera setup\r\n",
        "R, T = p3d.renderer.look_at_view_transform(2.7, 10, 20)\r\n",
        "cameras = p3d.renderer.OpenGLPerspectiveCameras(device=device, R=R, T=T)\r\n",
        "\r\n",
        "\r\n",
        "#the way image will be displayed\r\n",
        "raster_settings = p3d.renderer.RasterizationSettings(\r\n",
        "   image_size = 512,\r\n",
        "   blur_radius = 0.0,\r\n",
        "   faces_per_pixel = 1,\r\n",
        "   bin_size = 0\r\n",
        ")\r\n",
        "\r\n",
        "\r\n",
        "#placing light\r\n",
        "lights = p3d.renderer.PointLights(device=device, location=[[1.0, 1.0, -2.0]])\r\n",
        "\r\n",
        "\r\n",
        "\r\n",
        "#renderer settings\r\n",
        "renderer = p3d.renderer.MeshRenderer(\r\n",
        "   rasterizer = p3d.renderer.MeshRasterizer(\r\n",
        "      cameras = cameras,\r\n",
        "      raster_settings = raster_settings\r\n",
        "   ),\r\n",
        "   shader = p3d.renderer.mesh.SoftPhongShader(\r\n",
        "      device = device,\r\n",
        "      cameras = cameras,\r\n",
        "      lights = lights\r\n",
        "   )\r\n",
        ")\r\n",
        "\r\n",
        "\r\n",
        "#display mesh\r\n",
        "images = renderer(mesh)\r\n",
        "plt.figure(figsize=(10, 10))\r\n",
        "plt.imshow(images[0, ..., :3].cpu().numpy())\r\n",
        "plt.grid(\"off\")\r\n",
        "plt.axis(\"off\")\r\n",
        "\r\n",
        "\r\n"
      ],
      "execution_count": 54,
      "outputs": [
        {
          "output_type": "error",
          "ename": "ValueError",
          "evalue": "ignored",
          "traceback": [
            "\u001b[0;31m---------------------------------------------------------------------------\u001b[0m",
            "\u001b[0;31mValueError\u001b[0m                                Traceback (most recent call last)",
            "\u001b[0;32m<ipython-input-54-bbd563e2edf8>\u001b[0m in \u001b[0;36m<module>\u001b[0;34m()\u001b[0m\n\u001b[1;32m     42\u001b[0m \u001b[0;34m\u001b[0m\u001b[0m\n\u001b[1;32m     43\u001b[0m \u001b[0;31m#display mesh\u001b[0m\u001b[0;34m\u001b[0m\u001b[0;34m\u001b[0m\u001b[0;34m\u001b[0m\u001b[0m\n\u001b[0;32m---> 44\u001b[0;31m \u001b[0mimages\u001b[0m \u001b[0;34m=\u001b[0m \u001b[0mrenderer\u001b[0m\u001b[0;34m(\u001b[0m\u001b[0mmesh\u001b[0m\u001b[0;34m)\u001b[0m\u001b[0;34m\u001b[0m\u001b[0;34m\u001b[0m\u001b[0m\n\u001b[0m\u001b[1;32m     45\u001b[0m \u001b[0mplt\u001b[0m\u001b[0;34m.\u001b[0m\u001b[0mfigure\u001b[0m\u001b[0;34m(\u001b[0m\u001b[0mfigsize\u001b[0m\u001b[0;34m=\u001b[0m\u001b[0;34m(\u001b[0m\u001b[0;36m10\u001b[0m\u001b[0;34m,\u001b[0m \u001b[0;36m10\u001b[0m\u001b[0;34m)\u001b[0m\u001b[0;34m)\u001b[0m\u001b[0;34m\u001b[0m\u001b[0;34m\u001b[0m\u001b[0m\n\u001b[1;32m     46\u001b[0m \u001b[0mplt\u001b[0m\u001b[0;34m.\u001b[0m\u001b[0mimshow\u001b[0m\u001b[0;34m(\u001b[0m\u001b[0mimages\u001b[0m\u001b[0;34m[\u001b[0m\u001b[0;36m0\u001b[0m\u001b[0;34m,\u001b[0m \u001b[0;34m...\u001b[0m\u001b[0;34m,\u001b[0m \u001b[0;34m:\u001b[0m\u001b[0;36m3\u001b[0m\u001b[0;34m]\u001b[0m\u001b[0;34m.\u001b[0m\u001b[0mcpu\u001b[0m\u001b[0;34m(\u001b[0m\u001b[0;34m)\u001b[0m\u001b[0;34m.\u001b[0m\u001b[0mnumpy\u001b[0m\u001b[0;34m(\u001b[0m\u001b[0;34m)\u001b[0m\u001b[0;34m)\u001b[0m\u001b[0;34m\u001b[0m\u001b[0;34m\u001b[0m\u001b[0m\n",
            "\u001b[0;32m/usr/local/lib/python3.6/dist-packages/torch/nn/modules/module.py\u001b[0m in \u001b[0;36m_call_impl\u001b[0;34m(self, *input, **kwargs)\u001b[0m\n\u001b[1;32m    725\u001b[0m             \u001b[0mresult\u001b[0m \u001b[0;34m=\u001b[0m \u001b[0mself\u001b[0m\u001b[0;34m.\u001b[0m\u001b[0m_slow_forward\u001b[0m\u001b[0;34m(\u001b[0m\u001b[0;34m*\u001b[0m\u001b[0minput\u001b[0m\u001b[0;34m,\u001b[0m \u001b[0;34m**\u001b[0m\u001b[0mkwargs\u001b[0m\u001b[0;34m)\u001b[0m\u001b[0;34m\u001b[0m\u001b[0;34m\u001b[0m\u001b[0m\n\u001b[1;32m    726\u001b[0m         \u001b[0;32melse\u001b[0m\u001b[0;34m:\u001b[0m\u001b[0;34m\u001b[0m\u001b[0;34m\u001b[0m\u001b[0m\n\u001b[0;32m--> 727\u001b[0;31m             \u001b[0mresult\u001b[0m \u001b[0;34m=\u001b[0m \u001b[0mself\u001b[0m\u001b[0;34m.\u001b[0m\u001b[0mforward\u001b[0m\u001b[0;34m(\u001b[0m\u001b[0;34m*\u001b[0m\u001b[0minput\u001b[0m\u001b[0;34m,\u001b[0m \u001b[0;34m**\u001b[0m\u001b[0mkwargs\u001b[0m\u001b[0;34m)\u001b[0m\u001b[0;34m\u001b[0m\u001b[0;34m\u001b[0m\u001b[0m\n\u001b[0m\u001b[1;32m    728\u001b[0m         for hook in itertools.chain(\n\u001b[1;32m    729\u001b[0m                 \u001b[0m_global_forward_hooks\u001b[0m\u001b[0;34m.\u001b[0m\u001b[0mvalues\u001b[0m\u001b[0;34m(\u001b[0m\u001b[0;34m)\u001b[0m\u001b[0;34m,\u001b[0m\u001b[0;34m\u001b[0m\u001b[0;34m\u001b[0m\u001b[0m\n",
            "\u001b[0;32m/usr/local/lib/python3.6/dist-packages/pytorch3d/renderer/mesh/renderer.py\u001b[0m in \u001b[0;36mforward\u001b[0;34m(self, meshes_world, **kwargs)\u001b[0m\n\u001b[1;32m     53\u001b[0m         \"\"\"\n\u001b[1;32m     54\u001b[0m         \u001b[0mfragments\u001b[0m \u001b[0;34m=\u001b[0m \u001b[0mself\u001b[0m\u001b[0;34m.\u001b[0m\u001b[0mrasterizer\u001b[0m\u001b[0;34m(\u001b[0m\u001b[0mmeshes_world\u001b[0m\u001b[0;34m,\u001b[0m \u001b[0;34m**\u001b[0m\u001b[0mkwargs\u001b[0m\u001b[0;34m)\u001b[0m\u001b[0;34m\u001b[0m\u001b[0;34m\u001b[0m\u001b[0m\n\u001b[0;32m---> 55\u001b[0;31m         \u001b[0mimages\u001b[0m \u001b[0;34m=\u001b[0m \u001b[0mself\u001b[0m\u001b[0;34m.\u001b[0m\u001b[0mshader\u001b[0m\u001b[0;34m(\u001b[0m\u001b[0mfragments\u001b[0m\u001b[0;34m,\u001b[0m \u001b[0mmeshes_world\u001b[0m\u001b[0;34m,\u001b[0m \u001b[0;34m**\u001b[0m\u001b[0mkwargs\u001b[0m\u001b[0;34m)\u001b[0m\u001b[0;34m\u001b[0m\u001b[0;34m\u001b[0m\u001b[0m\n\u001b[0m\u001b[1;32m     56\u001b[0m \u001b[0;34m\u001b[0m\u001b[0m\n\u001b[1;32m     57\u001b[0m         \u001b[0;32mreturn\u001b[0m \u001b[0mimages\u001b[0m\u001b[0;34m\u001b[0m\u001b[0;34m\u001b[0m\u001b[0m\n",
            "\u001b[0;32m/usr/local/lib/python3.6/dist-packages/torch/nn/modules/module.py\u001b[0m in \u001b[0;36m_call_impl\u001b[0;34m(self, *input, **kwargs)\u001b[0m\n\u001b[1;32m    725\u001b[0m             \u001b[0mresult\u001b[0m \u001b[0;34m=\u001b[0m \u001b[0mself\u001b[0m\u001b[0;34m.\u001b[0m\u001b[0m_slow_forward\u001b[0m\u001b[0;34m(\u001b[0m\u001b[0;34m*\u001b[0m\u001b[0minput\u001b[0m\u001b[0;34m,\u001b[0m \u001b[0;34m**\u001b[0m\u001b[0mkwargs\u001b[0m\u001b[0;34m)\u001b[0m\u001b[0;34m\u001b[0m\u001b[0;34m\u001b[0m\u001b[0m\n\u001b[1;32m    726\u001b[0m         \u001b[0;32melse\u001b[0m\u001b[0;34m:\u001b[0m\u001b[0;34m\u001b[0m\u001b[0;34m\u001b[0m\u001b[0m\n\u001b[0;32m--> 727\u001b[0;31m             \u001b[0mresult\u001b[0m \u001b[0;34m=\u001b[0m \u001b[0mself\u001b[0m\u001b[0;34m.\u001b[0m\u001b[0mforward\u001b[0m\u001b[0;34m(\u001b[0m\u001b[0;34m*\u001b[0m\u001b[0minput\u001b[0m\u001b[0;34m,\u001b[0m \u001b[0;34m**\u001b[0m\u001b[0mkwargs\u001b[0m\u001b[0;34m)\u001b[0m\u001b[0;34m\u001b[0m\u001b[0;34m\u001b[0m\u001b[0m\n\u001b[0m\u001b[1;32m    728\u001b[0m         for hook in itertools.chain(\n\u001b[1;32m    729\u001b[0m                 \u001b[0m_global_forward_hooks\u001b[0m\u001b[0;34m.\u001b[0m\u001b[0mvalues\u001b[0m\u001b[0;34m(\u001b[0m\u001b[0;34m)\u001b[0m\u001b[0;34m,\u001b[0m\u001b[0;34m\u001b[0m\u001b[0;34m\u001b[0m\u001b[0m\n",
            "\u001b[0;32m/usr/local/lib/python3.6/dist-packages/pytorch3d/renderer/mesh/shader.py\u001b[0m in \u001b[0;36mforward\u001b[0;34m(self, fragments, meshes, **kwargs)\u001b[0m\n\u001b[1;32m    118\u001b[0m             \u001b[0;32mraise\u001b[0m \u001b[0mValueError\u001b[0m\u001b[0;34m(\u001b[0m\u001b[0mmsg\u001b[0m\u001b[0;34m)\u001b[0m\u001b[0;34m\u001b[0m\u001b[0;34m\u001b[0m\u001b[0m\n\u001b[1;32m    119\u001b[0m \u001b[0;34m\u001b[0m\u001b[0m\n\u001b[0;32m--> 120\u001b[0;31m         \u001b[0mtexels\u001b[0m \u001b[0;34m=\u001b[0m \u001b[0mmeshes\u001b[0m\u001b[0;34m.\u001b[0m\u001b[0msample_textures\u001b[0m\u001b[0;34m(\u001b[0m\u001b[0mfragments\u001b[0m\u001b[0;34m)\u001b[0m\u001b[0;34m\u001b[0m\u001b[0;34m\u001b[0m\u001b[0m\n\u001b[0m\u001b[1;32m    121\u001b[0m         \u001b[0mlights\u001b[0m \u001b[0;34m=\u001b[0m \u001b[0mkwargs\u001b[0m\u001b[0;34m.\u001b[0m\u001b[0mget\u001b[0m\u001b[0;34m(\u001b[0m\u001b[0;34m\"lights\"\u001b[0m\u001b[0;34m,\u001b[0m \u001b[0mself\u001b[0m\u001b[0;34m.\u001b[0m\u001b[0mlights\u001b[0m\u001b[0;34m)\u001b[0m\u001b[0;34m\u001b[0m\u001b[0;34m\u001b[0m\u001b[0m\n\u001b[1;32m    122\u001b[0m         \u001b[0mmaterials\u001b[0m \u001b[0;34m=\u001b[0m \u001b[0mkwargs\u001b[0m\u001b[0;34m.\u001b[0m\u001b[0mget\u001b[0m\u001b[0;34m(\u001b[0m\u001b[0;34m\"materials\"\u001b[0m\u001b[0;34m,\u001b[0m \u001b[0mself\u001b[0m\u001b[0;34m.\u001b[0m\u001b[0mmaterials\u001b[0m\u001b[0;34m)\u001b[0m\u001b[0;34m\u001b[0m\u001b[0;34m\u001b[0m\u001b[0m\n",
            "\u001b[0;32m/usr/local/lib/python3.6/dist-packages/pytorch3d/structures/meshes.py\u001b[0m in \u001b[0;36msample_textures\u001b[0;34m(self, fragments)\u001b[0m\n\u001b[1;32m   1496\u001b[0m             )\n\u001b[1;32m   1497\u001b[0m         \u001b[0;32melse\u001b[0m\u001b[0;34m:\u001b[0m\u001b[0;34m\u001b[0m\u001b[0;34m\u001b[0m\u001b[0m\n\u001b[0;32m-> 1498\u001b[0;31m             \u001b[0;32mraise\u001b[0m \u001b[0mValueError\u001b[0m\u001b[0;34m(\u001b[0m\u001b[0;34m\"Meshes does not have textures\"\u001b[0m\u001b[0;34m)\u001b[0m\u001b[0;34m\u001b[0m\u001b[0;34m\u001b[0m\u001b[0m\n\u001b[0m\u001b[1;32m   1499\u001b[0m \u001b[0;34m\u001b[0m\u001b[0m\n\u001b[1;32m   1500\u001b[0m \u001b[0;34m\u001b[0m\u001b[0m\n",
            "\u001b[0;31mValueError\u001b[0m: Meshes does not have textures"
          ]
        }
      ]
    }
  ]
}